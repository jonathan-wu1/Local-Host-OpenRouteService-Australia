{
 "cells": [
  {
   "cell_type": "code",
   "execution_count": 2,
   "metadata": {},
   "outputs": [],
   "source": [
    "import geopandas as gpd\n",
    "import pandas as pd\n",
    "import folium\n",
    "import numpy as np\n",
    "import os\n",
    "from urllib.request import urlretrieve\n",
    "from openrouteservice.directions import directions\n",
    "from openrouteservice import convert\n",
    "import operator\n",
    "from functools import reduce\n",
    "import openrouteservice as ors\n",
    "import math\n",
    "\n",
    "\n",
    "# Functions\n",
    "def getClient(key):\n",
    "    return ors.Client(key=key)\n",
    "\n",
    "\n",
    "def getKmDistance(locations):\n",
    "    distance = 0\n",
    "    for i in range(len(locations) - 1):\n",
    "        distance += haversine(locations[i][0], locations[i][1], locations[i + 1][0], locations[i + 1][1])\n",
    "    return distance\n",
    "\n",
    "\n",
    "# Find the stright line distance between two lat lons\n",
    "def haversine(lat1, lon1, lat2, lon2):\n",
    "    # Radius of the Earth in kilometers\n",
    "    R = 6371.0\n",
    "\n",
    "    # Convert latitude and longitude from degrees to radians\n",
    "    lat1 = math.radians(lat1)\n",
    "    lon1 = math.radians(lon1)\n",
    "    lat2 = math.radians(lat2)\n",
    "    lon2 = math.radians(lon2)\n",
    "\n",
    "    # Haversine formula\n",
    "    dlon = lon2 - lon1\n",
    "    dlat = lat2 - lat1\n",
    "    a = math.sin(dlat / 2)**2 + math.cos(lat1) * math.cos(lat2) * math.sin(dlon / 2)**2\n",
    "    c = 2 * math.atan2(math.sqrt(a), math.sqrt(1 - a))\n",
    "    distance = R * c\n",
    "\n",
    "    return distance\n",
    "\n",
    "\n",
    "def getRoute(client, loc1, loc2): # loc template => (lon, lat)\n",
    "    # white house to the pentagon\n",
    "    coords = [loc1, loc2]\n",
    "\n",
    "    route = client.directions(coordinates=coords,\n",
    "                            profile='driving-car',\n",
    "                            format=\"geojson\")\n",
    "    \n",
    "    return route\n",
    "\n",
    "\n",
    "# Find the route distance between two lat lons\n",
    "def findRouteDist(lat1, lat2, lon1, lon2):\n",
    "    # key = \"5b3ce3597851110001cf624806471ffca1c34a59affc7b8696347bee\"\n",
    "\n",
    "    # client = getClient(key)\n",
    "    client = ors.Client(base_url=\"http://localhost:8080/ors\")\n",
    "\n",
    "    loc_1 = (lon1, lat1)\n",
    "    loc_2 = (lon2, lat2)\n",
    "\n",
    "    route = getRoute(client, loc_1, loc_2)\n",
    "\n",
    "    locations=[list(reversed(coord)) for coord in route['features'][0]['geometry']['coordinates']]\n",
    "\n",
    "    distance = getKmDistance(locations)\n",
    "\n",
    "    return distance"
   ]
  },
  {
   "cell_type": "code",
   "execution_count": 17,
   "metadata": {},
   "outputs": [
    {
     "data": {
      "text/plain": [
       "12.240073164966057"
      ]
     },
     "execution_count": 17,
     "metadata": {},
     "output_type": "execute_result"
    }
   ],
   "source": [
    "findRouteDist(lat1 = -37.773160, lon1=145.082079, lat2=-37.806386, lon2=145.175529)"
   ]
  },
  {
   "cell_type": "code",
   "execution_count": 7,
   "metadata": {},
   "outputs": [
    {
     "name": "stdout",
     "output_type": "stream",
     "text": [
      "200 \n",
      "{\"type\":\"FeatureCollection\",\"metadata\":{\"attribution\":\"openrouteservice.org, OpenStreetMap contributors, tmc - BASt\",\"service\":\"routing\",\"timestamp\":1695293772662,\"query\":{\"coordinates\":[[145.082079,-37.77316],[145.175529,-37.806386]],\"profile\":\"driving-car\",\"format\":\"json\"},\"engine\":{\"version\":\"8.0\",\"build_date\":\"2023-09-20T07:54:24Z\",\"graph_date\":\"2023-09-20T11:27:39Z\"}},\"bbox\":[145.078659,-37.809496,145.178134,-37.770562],\"features\":[{\"bbox\":[145.078659,-37.809496,145.178134,-37.770562],\"type\":\"Feature\",\"properties\":{\"transfers\":0,\"fare\":0,\"segments\":[{\"distance\":12240.1,\"duration\":762.8,\"steps\":[{\"distance\":443.4,\"duration\":83.5,\"type\":11,\"instruction\":\"Head northwest\",\"name\":\"-\",\"way_points\":[0,12]},{\"distance\":956.3,\"duration\":90.8,\"type\":0,\"instruction\":\"Turn left onto Bulleen Road, 52\",\"name\":\"Bulleen Road, 52\",\"way_points\":[12,22]},{\"distance\":288.5,\"duration\":28.9,\"type\":12,\"instruction\":\"Keep left onto Thompsons Road\",\"name\":\"Thompsons Road\",\"way_points\":[22,29]},{\"distance\":8780.6,\"duration\":373.0,\"type\":13,\"instruction\":\"Keep right onto Eastern Freeway Onramp\",\"name\":\"Eastern Freeway Onramp\",\"way_points\":[29,109]},{\"distance\":560.4,\"duration\":31.9,\"type\":12,\"instruction\":\"Keep left onto Springvale Road Offramp\",\"name\":\"Springvale Road Offramp\",\"way_points\":[109,117]},{\"distance\":150.7,\"duration\":29.0,\"type\":13,\"instruction\":\"Keep right onto Springvale Road Offramp\",\"name\":\"Springvale Road Offramp\",\"way_points\":[117,125]},{\"distance\":621.2,\"duration\":67.8,\"type\":1,\"instruction\":\"Turn right onto Springvale Road, 40\",\"name\":\"Springvale Road, 40\",\"way_points\":[125,133]},{\"distance\":344.3,\"duration\":35.1,\"type\":6,\"instruction\":\"Continue straight onto Springvale Road, 40\",\"name\":\"Springvale Road, 40\",\"way_points\":[133,138]},{\"distance\":94.7,\"duration\":22.7,\"type\":0,\"instruction\":\"Turn left\",\"name\":\"-\",\"way_points\":[138,139]},{\"distance\":0.0,\"duration\":0.0,\"type\":10,\"instruction\":\"Arrive at your destination, on the left\",\"name\":\"-\",\"way_points\":[139,139]}]}],\"summary\":{\"distance\":12240.1,\"duration\":762.8},\"way_points\":[0,139]},\"geometry\":{\"coordinates\":[[145.082978,-37.772312],[145.082822,-37.772168],[145.082715,-37.771872],[145.08203,-37.771749],[145.08161,-37.771835],[145.081267,-37.771797],[145.080934,-37.771655],[145.08076,-37.7715],[145.080669,-37.771296],[145.080615,-37.770807],[145.08054,-37.770768],[145.079562,-37.770576],[145.079262,-37.770562],[145.079135,-37.772012],[145.079096,-37.772477],[145.078867,-37.775059],[145.078812,-37.775851],[145.078793,-37.776059],[145.078727,-37.776863],[145.078713,-37.777095],[145.078694,-37.777583],[145.078667,-37.778693],[145.078659,-37.779147],[145.07877,-37.779415],[145.07886,-37.779506],[145.079002,-37.779562],[145.079959,-37.779529],[145.080518,-37.779458],[145.081244,-37.779312],[145.081574,-37.779226],[145.081964,-37.779166],[145.082127,-37.779184],[145.08249,-37.779322],[145.082848,-37.779444],[145.08317,-37.779523],[145.083504,-37.779585],[145.084216,-37.779653],[145.086136,-37.779785],[145.087401,-37.779821],[145.089983,-37.77977],[145.0932,-37.779595],[145.094244,-37.779586],[145.09503,-37.77967],[145.095697,-37.779787],[145.096506,-37.780036],[145.097186,-37.780335],[145.097874,-37.780794],[145.098492,-37.781312],[145.098935,-37.781769],[145.099287,-37.782326],[145.099639,-37.783193],[145.099853,-37.783936],[145.100154,-37.784878],[145.100392,-37.785463],[145.100616,-37.785923],[145.100947,-37.786471],[145.101127,-37.786729],[145.101509,-37.787209],[145.101901,-37.787643],[145.10216,-37.787895],[145.102925,-37.788574],[145.103073,-37.788698],[145.103279,-37.788871],[145.105202,-37.79054],[145.106978,-37.792012],[145.108146,-37.792887],[145.108839,-37.793355],[145.109627,-37.793817],[145.110388,-37.794166],[145.110881,-37.794368],[145.111727,-37.794634],[145.112273,-37.794777],[145.112889,-37.794913],[145.113361,-37.794981],[145.114735,-37.795198],[145.115726,-37.795342],[145.117146,-37.795678],[145.118265,-37.79602],[145.118577,-37.796131],[145.120645,-37.79687],[145.121924,-37.797153],[145.123107,-37.797309],[145.123911,-37.797347],[145.124576,-37.797354],[145.125329,-37.797311],[145.126751,-37.797156],[145.128145,-37.797053],[145.128634,-37.797031],[145.129478,-37.797032],[145.130475,-37.79708],[145.132095,-37.797231],[145.1343,-37.797499],[145.136303,-37.797762],[145.138514,-37.797937],[145.141402,-37.798133],[145.142162,-37.798228],[145.142549,-37.798277],[145.143273,-37.798405],[145.144308,-37.798641],[145.145994,-37.799087],[145.146637,-37.799293],[145.148242,-37.799693],[145.150665,-37.800134],[145.153084,-37.800515],[145.154181,-37.800618],[145.157419,-37.80092],[145.158587,-37.801093],[145.159653,-37.801276],[145.160726,-37.801487],[145.170277,-37.803503],[145.171269,-37.803631],[145.172114,-37.803718],[145.172818,-37.803759],[145.173863,-37.803787],[145.174491,-37.803759],[145.175281,-37.803695],[145.175732,-37.803645],[145.176608,-37.803515],[145.176932,-37.803482],[145.177277,-37.803487],[145.177528,-37.803548],[145.177738,-37.803669],[145.177819,-37.803733],[145.177898,-37.80379],[145.178008,-37.803859],[145.178134,-37.803935],[145.178134,-37.804049],[145.178109,-37.804465],[145.178086,-37.804878],[145.178044,-37.805233],[145.177984,-37.805706],[145.177669,-37.807964],[145.177546,-37.808806],[145.177483,-37.809496],[145.177264,-37.809475],[145.177517,-37.807678],[145.177588,-37.807156],[145.177619,-37.80693],[145.177669,-37.80657],[145.176602,-37.806455]],\"type\":\"LineString\"}}]}\n"
     ]
    }
   ],
   "source": [
    "import requests\n",
    "\n",
    "headers = {\n",
    "    'Accept': 'application/json, application/geo+json, application/gpx+xml, img/png; charset=utf-8',\n",
    "}\n",
    "\n",
    "lat1 = -37.773160\n",
    "lon1=145.082079\n",
    "lat2=-37.806386\n",
    "lon2=145.175529\n",
    "\n",
    "call = requests.get(f'http://localhost:8080/ors/v2/directions/driving-car?start={lon1},{lat1}&end={lon2},{lat2}', headers=headers)\n",
    "\n",
    "print(call.status_code, call.reason)\n",
    "print(call.text)"
   ]
  },
  {
   "cell_type": "code",
   "execution_count": 3,
   "metadata": {},
   "outputs": [],
   "source": [
    "df = pd.read_csv('property.csv')"
   ]
  },
  {
   "cell_type": "code",
   "execution_count": 16,
   "metadata": {},
   "outputs": [
    {
     "data": {
      "text/plain": [
       "'[-37.8176878 144.9597256]'"
      ]
     },
     "execution_count": 16,
     "metadata": {},
     "output_type": "execute_result"
    }
   ],
   "source": [
    "df['coordinates'][0]"
   ]
  },
  {
   "cell_type": "code",
   "execution_count": 12,
   "metadata": {},
   "outputs": [
    {
     "name": "stdout",
     "output_type": "stream",
     "text": [
      "<class 'shapely.geometry.point.Point'>\n"
     ]
    }
   ],
   "source": [
    "from shapely import wkt\n",
    "\n",
    "# df['closestTrain'] = df['closestTrain'].apply(wkt.loads)\n",
    "print(type(df['closestTrain'][0]))"
   ]
  },
  {
   "cell_type": "code",
   "execution_count": 17,
   "metadata": {},
   "outputs": [],
   "source": [
    "import ast\n",
    "\n",
    "def convertString(input_string):\n",
    "    # Remove the square brackets and split the string by whitespace\n",
    "    split_string = input_string.strip('[]').split()\n",
    "\n",
    "    # Convert the elements to numbers if needed\n",
    "    result_list = [float(x) for x in split_string]\n",
    "    return result_list\n",
    "\n",
    "\n",
    "df['coordinates'] = df['coordinates'].apply(convertString)"
   ]
  },
  {
   "cell_type": "code",
   "execution_count": 19,
   "metadata": {},
   "outputs": [
    {
     "name": "stdout",
     "output_type": "stream",
     "text": [
      "[-37.8176878, 144.9597256]\n"
     ]
    }
   ],
   "source": [
    "print((df['coordinates'][0]))"
   ]
  },
  {
   "cell_type": "code",
   "execution_count": 3,
   "metadata": {},
   "outputs": [],
   "source": [
    "client = ors.Client(base_url=\"http://localhost:8080/ors\")"
   ]
  },
  {
   "cell_type": "code",
   "execution_count": 7,
   "metadata": {},
   "outputs": [],
   "source": [
    "loc_1 = (144.9610166, -37.8089811)\n",
    "loc_2 = (144.9671, -37.8183)\n",
    "coords = [loc_1, loc_2]\n",
    "route = client.directions(coordinates=coords,\n",
    "                            profile='driving-car',\n",
    "                            format=\"geojson\")"
   ]
  },
  {
   "cell_type": "code",
   "execution_count": 19,
   "metadata": {},
   "outputs": [
    {
     "data": {
      "text/plain": [
       "{'type': 'FeatureCollection',\n",
       " 'metadata': {'attribution': 'openrouteservice.org, OpenStreetMap contributors, tmc - BASt',\n",
       "  'service': 'routing',\n",
       "  'timestamp': 1696571853225,\n",
       "  'query': {'coordinates': [[144.9610166, -37.8089811], [144.9671, -37.8183]],\n",
       "   'profile': 'driving-car',\n",
       "   'format': 'geojson'},\n",
       "  'engine': {'version': '8.0',\n",
       "   'build_date': '2023-09-20T07:54:24Z',\n",
       "   'graph_date': '2023-09-20T11:27:39Z'}},\n",
       " 'bbox': [144.960848, -37.823369, 144.970214, -37.809029],\n",
       " 'features': [{'bbox': [144.960848, -37.823369, 144.970214, -37.809029],\n",
       "   'type': 'Feature',\n",
       "   'properties': {'transfers': 0,\n",
       "    'fare': 0,\n",
       "    'segments': [{'distance': 3102.0,\n",
       "      'duration': 460.2,\n",
       "      'steps': [{'distance': 375.7,\n",
       "        'duration': 63.1,\n",
       "        'type': 11,\n",
       "        'instruction': 'Head south on Elizabeth Street',\n",
       "        'name': 'Elizabeth Street',\n",
       "        'way_points': [0, 10]},\n",
       "       {'distance': 463.4,\n",
       "        'duration': 56.5,\n",
       "        'type': 0,\n",
       "        'instruction': 'Turn left onto Lonsdale Street',\n",
       "        'name': 'Lonsdale Street',\n",
       "        'way_points': [10, 23]},\n",
       "       {'distance': 711.2,\n",
       "        'duration': 99.3,\n",
       "        'type': 1,\n",
       "        'instruction': 'Turn right onto Russell Street',\n",
       "        'name': 'Russell Street',\n",
       "        'way_points': [23, 43]},\n",
       "       {'distance': 231.5,\n",
       "        'duration': 34.5,\n",
       "        'type': 1,\n",
       "        'instruction': 'Turn right onto Flinders Street, 30',\n",
       "        'name': 'Flinders Street, 30',\n",
       "        'way_points': [43, 47]},\n",
       "       {'distance': 366.9,\n",
       "        'duration': 81.9,\n",
       "        'type': 0,\n",
       "        'instruction': 'Turn left onto Swanston Street',\n",
       "        'name': 'Swanston Street',\n",
       "        'way_points': [47, 59]},\n",
       "       {'distance': 319.6,\n",
       "        'duration': 30.0,\n",
       "        'type': 13,\n",
       "        'instruction': 'Keep right onto St Kilda Road',\n",
       "        'name': 'St Kilda Road',\n",
       "        'way_points': [59, 62]},\n",
       "       {'distance': 633.6,\n",
       "        'duration': 94.9,\n",
       "        'type': 6,\n",
       "        'instruction': 'Continue straight onto St Kilda Road',\n",
       "        'name': 'St Kilda Road',\n",
       "        'way_points': [62, 76]},\n",
       "       {'distance': 0.0,\n",
       "        'duration': 0.0,\n",
       "        'type': 10,\n",
       "        'instruction': 'Arrive at St Kilda Road, on the left',\n",
       "        'name': '-',\n",
       "        'way_points': [76, 76]}]}],\n",
       "    'summary': {'distance': 3102.0, 'duration': 460.2},\n",
       "    'way_points': [0, 76]},\n",
       "   'geometry': {'coordinates': [[144.960848, -37.809029],\n",
       "     [144.960933, -37.809216],\n",
       "     [144.961167, -37.809729],\n",
       "     [144.961279, -37.80997],\n",
       "     [144.961403, -37.810231],\n",
       "     [144.961445, -37.810327],\n",
       "     [144.96145, -37.810337],\n",
       "     [144.961885, -37.811282],\n",
       "     [144.961957, -37.811439],\n",
       "     [144.962157, -37.811872],\n",
       "     [144.96231, -37.812205],\n",
       "     [144.962845, -37.812049],\n",
       "     [144.96351, -37.811856],\n",
       "     [144.963649, -37.811814],\n",
       "     [144.963852, -37.811756],\n",
       "     [144.964296, -37.811627],\n",
       "     [144.964708, -37.811504],\n",
       "     [144.965035, -37.81141],\n",
       "     [144.965624, -37.811244],\n",
       "     [144.965937, -37.811151],\n",
       "     [144.966386, -37.811019],\n",
       "     [144.966805, -37.810897],\n",
       "     [144.967111, -37.810808],\n",
       "     [144.96726, -37.810764],\n",
       "     [144.967306, -37.810864],\n",
       "     [144.967455, -37.811188],\n",
       "     [144.967739, -37.811804],\n",
       "     [144.967841, -37.812027],\n",
       "     [144.968156, -37.812715],\n",
       "     [144.968202, -37.812814],\n",
       "     [144.96836, -37.813154],\n",
       "     [144.968528, -37.813519],\n",
       "     [144.96864, -37.813761],\n",
       "     [144.969056, -37.814692],\n",
       "     [144.969094, -37.814785],\n",
       "     [144.969187, -37.814994],\n",
       "     [144.969237, -37.815096],\n",
       "     [144.969288, -37.815207],\n",
       "     [144.969443, -37.815532],\n",
       "     [144.969529, -37.815719],\n",
       "     [144.969644, -37.815974],\n",
       "     [144.969891, -37.816513],\n",
       "     [144.96995, -37.816656],\n",
       "     [144.969994, -37.816783],\n",
       "     [144.969961, -37.816793],\n",
       "     [144.969365, -37.816957],\n",
       "     [144.968122, -37.81732],\n",
       "     [144.967529, -37.817516],\n",
       "     [144.967563, -37.817599],\n",
       "     [144.967749, -37.817904],\n",
       "     [144.968065, -37.818588],\n",
       "     [144.968086, -37.81866],\n",
       "     [144.968111, -37.818755],\n",
       "     [144.968124, -37.818804],\n",
       "     [144.968573, -37.819777],\n",
       "     [144.968673, -37.819998],\n",
       "     [144.968695, -37.820044],\n",
       "     [144.968752, -37.820153],\n",
       "     [144.968857, -37.820287],\n",
       "     [144.969025, -37.820589],\n",
       "     [144.969479, -37.821685],\n",
       "     [144.970196, -37.823265],\n",
       "     [144.970214, -37.823305],\n",
       "     [144.970065, -37.823369],\n",
       "     [144.970025, -37.823283],\n",
       "     [144.969307, -37.821736],\n",
       "     [144.96893, -37.820993],\n",
       "     [144.968688, -37.820464],\n",
       "     [144.96861, -37.820186],\n",
       "     [144.968581, -37.820082],\n",
       "     [144.96857, -37.820051],\n",
       "     [144.968451, -37.819785],\n",
       "     [144.968005, -37.818813],\n",
       "     [144.967925, -37.818682],\n",
       "     [144.967887, -37.818639],\n",
       "     [144.967728, -37.818354],\n",
       "     [144.96764, -37.818153]],\n",
       "    'type': 'LineString'}}]}"
      ]
     },
     "execution_count": 19,
     "metadata": {},
     "output_type": "execute_result"
    }
   ],
   "source": [
    "route"
   ]
  },
  {
   "cell_type": "code",
   "execution_count": 31,
   "metadata": {},
   "outputs": [
    {
     "data": {
      "text/plain": [
       "[{'bbox': [144.960848, -37.823369, 144.970214, -37.809029],\n",
       "  'type': 'Feature',\n",
       "  'properties': {'transfers': 0,\n",
       "   'fare': 0,\n",
       "   'segments': [{'distance': 3102.0,\n",
       "     'duration': 460.2,\n",
       "     'steps': [{'distance': 375.7,\n",
       "       'duration': 63.1,\n",
       "       'type': 11,\n",
       "       'instruction': 'Head south on Elizabeth Street',\n",
       "       'name': 'Elizabeth Street',\n",
       "       'way_points': [0, 10]},\n",
       "      {'distance': 463.4,\n",
       "       'duration': 56.5,\n",
       "       'type': 0,\n",
       "       'instruction': 'Turn left onto Lonsdale Street',\n",
       "       'name': 'Lonsdale Street',\n",
       "       'way_points': [10, 23]},\n",
       "      {'distance': 711.2,\n",
       "       'duration': 99.3,\n",
       "       'type': 1,\n",
       "       'instruction': 'Turn right onto Russell Street',\n",
       "       'name': 'Russell Street',\n",
       "       'way_points': [23, 43]},\n",
       "      {'distance': 231.5,\n",
       "       'duration': 34.5,\n",
       "       'type': 1,\n",
       "       'instruction': 'Turn right onto Flinders Street, 30',\n",
       "       'name': 'Flinders Street, 30',\n",
       "       'way_points': [43, 47]},\n",
       "      {'distance': 366.9,\n",
       "       'duration': 81.9,\n",
       "       'type': 0,\n",
       "       'instruction': 'Turn left onto Swanston Street',\n",
       "       'name': 'Swanston Street',\n",
       "       'way_points': [47, 59]},\n",
       "      {'distance': 319.6,\n",
       "       'duration': 30.0,\n",
       "       'type': 13,\n",
       "       'instruction': 'Keep right onto St Kilda Road',\n",
       "       'name': 'St Kilda Road',\n",
       "       'way_points': [59, 62]},\n",
       "      {'distance': 633.6,\n",
       "       'duration': 94.9,\n",
       "       'type': 6,\n",
       "       'instruction': 'Continue straight onto St Kilda Road',\n",
       "       'name': 'St Kilda Road',\n",
       "       'way_points': [62, 76]},\n",
       "      {'distance': 0.0,\n",
       "       'duration': 0.0,\n",
       "       'type': 10,\n",
       "       'instruction': 'Arrive at St Kilda Road, on the left',\n",
       "       'name': '-',\n",
       "       'way_points': [76, 76]}]}],\n",
       "   'summary': {'distance': 3102.0, 'duration': 460.2},\n",
       "   'way_points': [0, 76]},\n",
       "  'geometry': {'coordinates': [[144.960848, -37.809029],\n",
       "    [144.960933, -37.809216],\n",
       "    [144.961167, -37.809729],\n",
       "    [144.961279, -37.80997],\n",
       "    [144.961403, -37.810231],\n",
       "    [144.961445, -37.810327],\n",
       "    [144.96145, -37.810337],\n",
       "    [144.961885, -37.811282],\n",
       "    [144.961957, -37.811439],\n",
       "    [144.962157, -37.811872],\n",
       "    [144.96231, -37.812205],\n",
       "    [144.962845, -37.812049],\n",
       "    [144.96351, -37.811856],\n",
       "    [144.963649, -37.811814],\n",
       "    [144.963852, -37.811756],\n",
       "    [144.964296, -37.811627],\n",
       "    [144.964708, -37.811504],\n",
       "    [144.965035, -37.81141],\n",
       "    [144.965624, -37.811244],\n",
       "    [144.965937, -37.811151],\n",
       "    [144.966386, -37.811019],\n",
       "    [144.966805, -37.810897],\n",
       "    [144.967111, -37.810808],\n",
       "    [144.96726, -37.810764],\n",
       "    [144.967306, -37.810864],\n",
       "    [144.967455, -37.811188],\n",
       "    [144.967739, -37.811804],\n",
       "    [144.967841, -37.812027],\n",
       "    [144.968156, -37.812715],\n",
       "    [144.968202, -37.812814],\n",
       "    [144.96836, -37.813154],\n",
       "    [144.968528, -37.813519],\n",
       "    [144.96864, -37.813761],\n",
       "    [144.969056, -37.814692],\n",
       "    [144.969094, -37.814785],\n",
       "    [144.969187, -37.814994],\n",
       "    [144.969237, -37.815096],\n",
       "    [144.969288, -37.815207],\n",
       "    [144.969443, -37.815532],\n",
       "    [144.969529, -37.815719],\n",
       "    [144.969644, -37.815974],\n",
       "    [144.969891, -37.816513],\n",
       "    [144.96995, -37.816656],\n",
       "    [144.969994, -37.816783],\n",
       "    [144.969961, -37.816793],\n",
       "    [144.969365, -37.816957],\n",
       "    [144.968122, -37.81732],\n",
       "    [144.967529, -37.817516],\n",
       "    [144.967563, -37.817599],\n",
       "    [144.967749, -37.817904],\n",
       "    [144.968065, -37.818588],\n",
       "    [144.968086, -37.81866],\n",
       "    [144.968111, -37.818755],\n",
       "    [144.968124, -37.818804],\n",
       "    [144.968573, -37.819777],\n",
       "    [144.968673, -37.819998],\n",
       "    [144.968695, -37.820044],\n",
       "    [144.968752, -37.820153],\n",
       "    [144.968857, -37.820287],\n",
       "    [144.969025, -37.820589],\n",
       "    [144.969479, -37.821685],\n",
       "    [144.970196, -37.823265],\n",
       "    [144.970214, -37.823305],\n",
       "    [144.970065, -37.823369],\n",
       "    [144.970025, -37.823283],\n",
       "    [144.969307, -37.821736],\n",
       "    [144.96893, -37.820993],\n",
       "    [144.968688, -37.820464],\n",
       "    [144.96861, -37.820186],\n",
       "    [144.968581, -37.820082],\n",
       "    [144.96857, -37.820051],\n",
       "    [144.968451, -37.819785],\n",
       "    [144.968005, -37.818813],\n",
       "    [144.967925, -37.818682],\n",
       "    [144.967887, -37.818639],\n",
       "    [144.967728, -37.818354],\n",
       "    [144.96764, -37.818153]],\n",
       "   'type': 'LineString'}}]"
      ]
     },
     "execution_count": 31,
     "metadata": {},
     "output_type": "execute_result"
    }
   ],
   "source": [
    "(route['features'])"
   ]
  },
  {
   "cell_type": "code",
   "execution_count": 47,
   "metadata": {},
   "outputs": [
    {
     "data": {
      "text/plain": [
       "3102.0"
      ]
     },
     "execution_count": 47,
     "metadata": {},
     "output_type": "execute_result"
    }
   ],
   "source": [
    "(route['features'][0]['properties']['segments'][0]['distance'])"
   ]
  }
 ],
 "metadata": {
  "kernelspec": {
   "display_name": "Python 3",
   "language": "python",
   "name": "python3"
  },
  "language_info": {
   "codemirror_mode": {
    "name": "ipython",
    "version": 3
   },
   "file_extension": ".py",
   "mimetype": "text/x-python",
   "name": "python",
   "nbconvert_exporter": "python",
   "pygments_lexer": "ipython3",
   "version": "3.10.6"
  },
  "orig_nbformat": 4
 },
 "nbformat": 4,
 "nbformat_minor": 2
}
